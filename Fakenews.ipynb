{
 "cells": [
  {
   "cell_type": "code",
   "execution_count": 21,
   "id": "417dca4a",
   "metadata": {},
   "outputs": [
    {
     "ename": "ImportError",
     "evalue": "cannot import name 'plot_confusion_matrix' from 'sklearn.metrics' (C:\\Users\\wogys\\anaconda3\\lib\\site-packages\\sklearn\\metrics\\__init__.py)",
     "output_type": "error",
     "traceback": [
      "\u001b[1;31m---------------------------------------------------------------------------\u001b[0m",
      "\u001b[1;31mImportError\u001b[0m                               Traceback (most recent call last)",
      "\u001b[1;32m~\\AppData\\Local\\Temp/ipykernel_21820/2023353747.py\u001b[0m in \u001b[0;36m<module>\u001b[1;34m\u001b[0m\n\u001b[0;32m     18\u001b[0m \u001b[1;32mfrom\u001b[0m \u001b[0msklearn\u001b[0m\u001b[1;33m.\u001b[0m\u001b[0mnaive_bayes\u001b[0m \u001b[1;32mimport\u001b[0m \u001b[0mMultinomialNB\u001b[0m\u001b[1;33m\u001b[0m\u001b[1;33m\u001b[0m\u001b[0m\n\u001b[0;32m     19\u001b[0m \u001b[1;33m\u001b[0m\u001b[0m\n\u001b[1;32m---> 20\u001b[1;33m \u001b[1;32mfrom\u001b[0m \u001b[0msklearn\u001b[0m\u001b[1;33m.\u001b[0m\u001b[0mmetrics\u001b[0m \u001b[1;32mimport\u001b[0m \u001b[0mconfusion_matrix\u001b[0m\u001b[1;33m,\u001b[0m \u001b[0mplot_confusion_matrix\u001b[0m\u001b[1;33m\u001b[0m\u001b[1;33m\u001b[0m\u001b[0m\n\u001b[0m\u001b[0;32m     21\u001b[0m \u001b[1;33m\u001b[0m\u001b[0m\n\u001b[0;32m     22\u001b[0m \u001b[1;32mimport\u001b[0m \u001b[0mnltk\u001b[0m\u001b[1;33m\u001b[0m\u001b[1;33m\u001b[0m\u001b[0m\n",
      "\u001b[1;31mImportError\u001b[0m: cannot import name 'plot_confusion_matrix' from 'sklearn.metrics' (C:\\Users\\wogys\\anaconda3\\lib\\site-packages\\sklearn\\metrics\\__init__.py)"
     ]
    }
   ],
   "source": [
    "import warnings\n",
    "warnings.filterwarnings(action = 'ignore')\n",
    "\n",
    "import matplotlib.pyplot as plt\n",
    "\n",
    "import numpy as np\n",
    "import pandas as pd\n",
    "pd.reset_option('^display.', silent = True)\n",
    "\n",
    "import random\n",
    "import math\n",
    "import gc\n",
    "\n",
    "from sklearn.feature_extraction.text import CountVectorizer\n",
    "from sklearn.model_selection import train_test_split\n",
    "from sklearn.utils import resample\n",
    "from sklearn.naive_bayes import BernoulliNB \n",
    "from sklearn.naive_bayes import MultinomialNB\n",
    "\n",
    "from sklearn.metrics import confusion_matrix, plot_confusion_matrix\n",
    "\n",
    "import nltk\n",
    "nltk.download('stopwords')\n",
    "nltk.download('punkt')\n",
    "from nltk.corpus import stopwords\n",
    "\n",
    "from wordcloud import WordCloud"
   ]
  },
  {
   "cell_type": "code",
   "execution_count": null,
   "id": "eb4f7532",
   "metadata": {},
   "outputs": [],
   "source": [
    "pip install --upgrade scikit-learn"
   ]
  },
  {
   "cell_type": "code",
   "execution_count": 5,
   "id": "82e84879",
   "metadata": {},
   "outputs": [],
   "source": [
    "# Set random seed\n",
    "np.random.seed(311)\n",
    "random.seed(311)"
   ]
  },
  {
   "cell_type": "code",
   "execution_count": 6,
   "id": "62d5f4be",
   "metadata": {
    "scrolled": true
   },
   "outputs": [],
   "source": [
    "true_df = pd.read_csv(\"C:/Users/wogys/Desktop/fake real/input/fake-and-real-news-dataset/True.csv\")\n",
    "false_df = pd.read_csv(\"C:/Users/wogys/Desktop/fake real/input/fake-and-real-news-dataset/Fake.csv\")"
   ]
  },
  {
   "cell_type": "code",
   "execution_count": 7,
   "id": "c23c0c55",
   "metadata": {},
   "outputs": [],
   "source": [
    "true_df['class'] = 1\n",
    "false_df['class'] = 0\n",
    "\n",
    "fake_news_df = pd.concat([true_df, false_df])"
   ]
  },
  {
   "cell_type": "code",
   "execution_count": 8,
   "id": "33771d92",
   "metadata": {},
   "outputs": [
    {
     "name": "stdout",
     "output_type": "stream",
     "text": [
      "<class 'pandas.core.frame.DataFrame'>\n",
      "Int64Index: 44898 entries, 0 to 23480\n",
      "Data columns (total 5 columns):\n",
      " #   Column   Non-Null Count  Dtype \n",
      "---  ------   --------------  ----- \n",
      " 0   title    44898 non-null  object\n",
      " 1   text     44898 non-null  object\n",
      " 2   subject  44898 non-null  object\n",
      " 3   date     44898 non-null  object\n",
      " 4   class    44898 non-null  int64 \n",
      "dtypes: int64(1), object(4)\n",
      "memory usage: 2.1+ MB\n"
     ]
    }
   ],
   "source": [
    "fake_news_df.info()"
   ]
  },
  {
   "cell_type": "code",
   "execution_count": 9,
   "id": "06588912",
   "metadata": {},
   "outputs": [
    {
     "data": {
      "text/html": [
       "<div>\n",
       "<style scoped>\n",
       "    .dataframe tbody tr th:only-of-type {\n",
       "        vertical-align: middle;\n",
       "    }\n",
       "\n",
       "    .dataframe tbody tr th {\n",
       "        vertical-align: top;\n",
       "    }\n",
       "\n",
       "    .dataframe thead th {\n",
       "        text-align: right;\n",
       "    }\n",
       "</style>\n",
       "<table border=\"1\" class=\"dataframe\">\n",
       "  <thead>\n",
       "    <tr style=\"text-align: right;\">\n",
       "      <th></th>\n",
       "      <th>title</th>\n",
       "      <th>text</th>\n",
       "      <th>subject</th>\n",
       "      <th>date</th>\n",
       "      <th>class</th>\n",
       "    </tr>\n",
       "  </thead>\n",
       "  <tbody>\n",
       "    <tr>\n",
       "      <th>0</th>\n",
       "      <td>As U.S. budget fight looms, Republicans flip t...</td>\n",
       "      <td>WASHINGTON (Reuters) - The head of a conservat...</td>\n",
       "      <td>politicsNews</td>\n",
       "      <td>December 31, 2017</td>\n",
       "      <td>1</td>\n",
       "    </tr>\n",
       "    <tr>\n",
       "      <th>1</th>\n",
       "      <td>U.S. military to accept transgender recruits o...</td>\n",
       "      <td>WASHINGTON (Reuters) - Transgender people will...</td>\n",
       "      <td>politicsNews</td>\n",
       "      <td>December 29, 2017</td>\n",
       "      <td>1</td>\n",
       "    </tr>\n",
       "    <tr>\n",
       "      <th>2</th>\n",
       "      <td>Senior U.S. Republican senator: 'Let Mr. Muell...</td>\n",
       "      <td>WASHINGTON (Reuters) - The special counsel inv...</td>\n",
       "      <td>politicsNews</td>\n",
       "      <td>December 31, 2017</td>\n",
       "      <td>1</td>\n",
       "    </tr>\n",
       "  </tbody>\n",
       "</table>\n",
       "</div>"
      ],
      "text/plain": [
       "                                               title  \\\n",
       "0  As U.S. budget fight looms, Republicans flip t...   \n",
       "1  U.S. military to accept transgender recruits o...   \n",
       "2  Senior U.S. Republican senator: 'Let Mr. Muell...   \n",
       "\n",
       "                                                text       subject  \\\n",
       "0  WASHINGTON (Reuters) - The head of a conservat...  politicsNews   \n",
       "1  WASHINGTON (Reuters) - Transgender people will...  politicsNews   \n",
       "2  WASHINGTON (Reuters) - The special counsel inv...  politicsNews   \n",
       "\n",
       "                 date  class  \n",
       "0  December 31, 2017       1  \n",
       "1  December 29, 2017       1  \n",
       "2  December 31, 2017       1  "
      ]
     },
     "metadata": {},
     "output_type": "display_data"
    }
   ],
   "source": [
    "display(fake_news_df.head(3))"
   ]
  },
  {
   "cell_type": "code",
   "execution_count": 10,
   "id": "2c160ad4",
   "metadata": {},
   "outputs": [
    {
     "data": {
      "text/plain": [
       "0    washington reuters  the head of a conservative...\n",
       "1    washington reuters  transgender people will be...\n",
       "2    washington reuters  the special counsel invest...\n",
       "3    washington reuters  trump campaign adviser geo...\n",
       "4    seattlewashington reuters  president donald tr...\n",
       "Name: text, dtype: object"
      ]
     },
     "execution_count": 10,
     "metadata": {},
     "output_type": "execute_result"
    }
   ],
   "source": [
    "# convert text columns to lower case\n",
    "fake_news_df['title'] = fake_news_df['title'].str.lower()\n",
    "fake_news_df['text'] = fake_news_df['text'].str.lower()\n",
    "\n",
    "# remove punctuation\n",
    "fake_news_df['title'] = fake_news_df['title'].str.replace('[^\\w\\s]', '')\n",
    "fake_news_df['text'] = fake_news_df['text'].str.replace('[^\\w\\s]', '')\n",
    "\n",
    "fake_news_df['text'].head()"
   ]
  },
  {
   "cell_type": "code",
   "execution_count": 11,
   "id": "1e63aa5e",
   "metadata": {},
   "outputs": [],
   "source": [
    "fake_news_df['text_combined'] = fake_news_df['title'] + fake_news_df['text']"
   ]
  },
  {
   "cell_type": "code",
   "execution_count": 12,
   "id": "e6a58c84",
   "metadata": {},
   "outputs": [
    {
     "data": {
      "text/plain": [
       "(14452, 6)"
      ]
     },
     "execution_count": 12,
     "metadata": {},
     "output_type": "execute_result"
    }
   ],
   "source": [
    "fake_news_df = fake_news_df[fake_news_df['title'].str.contains('trump')]\n",
    "fake_news_df.shape"
   ]
  },
  {
   "cell_type": "code",
   "execution_count": 13,
   "id": "c330fce5",
   "metadata": {},
   "outputs": [
    {
     "name": "stdout",
     "output_type": "stream",
     "text": [
      "0    8910\n",
      "1    5542\n",
      "Name: class, dtype: int64\n"
     ]
    },
    {
     "data": {
      "image/png": "[encoded data removed]",
      "text/plain": [
       "<Figure size 432x288 with 1 Axes>"
      ]
     },
     "metadata": {
      "needs_background": "light"
     },
     "output_type": "display_data"
    }
   ],
   "source": [
    "print(fake_news_df['class'].value_counts())\n",
    "\n",
    "plt.hist(fake_news_df['class'], color ='lightgreen', edgecolor = 'white', bins = 2)\n",
    "plt.xlabel('Fake vs True')\n",
    "plt.ylabel('Number')\n",
    "plt.title('Histogram of Fake vs True')\n",
    "plt.show()"
   ]
  },
  {
   "cell_type": "code",
   "execution_count": 14,
   "id": "d9ae5afa",
   "metadata": {},
   "outputs": [
    {
     "name": "stdout",
     "output_type": "stream",
     "text": [
      "(5542, 6)\n"
     ]
    }
   ],
   "source": [
    "real = fake_news_df[fake_news_df['class'] == 1]\n",
    "fake = fake_news_df[fake_news_df['class'] == 0]\n",
    "\n",
    "fake_downsample = resample(fake,\n",
    "             replace = True,\n",
    "             n_samples = len(real),\n",
    "             random_state = 311)\n",
    "\n",
    "print(fake_downsample.shape)\n",
    "\n",
    "fake_news_df = pd.concat([real, fake_downsample])"
   ]
  },
  {
   "cell_type": "code",
   "execution_count": 15,
   "id": "30da2a6d",
   "metadata": {},
   "outputs": [
    {
     "data": {
      "text/plain": [
       "(4829, 6)"
      ]
     },
     "execution_count": 15,
     "metadata": {},
     "output_type": "execute_result"
    }
   ],
   "source": [
    "fake_rest_df = fake[~fake.index.isin(fake_downsample.index)]\n",
    "fake_rest_df.shape"
   ]
  },
  {
   "cell_type": "code",
   "execution_count": 16,
   "id": "3cd1a3a7",
   "metadata": {},
   "outputs": [],
   "source": [
    "def split_data(data, labels, valid_part_size = 0.15, test_part_size = 0.15):\n",
    "\n",
    "    # Split the dataset into train, validation, and test\n",
    "    X_train, X_test, y_train, y_test = train_test_split(\n",
    "        data, \n",
    "        labels, \n",
    "        test_size = test_part_size, \n",
    "        stratify = labels, \n",
    "        random_state = 311\n",
    "        )\n",
    "    \n",
    "    X_train, X_valid, y_train, y_valid = train_test_split(\n",
    "        X_train, \n",
    "        y_train, \n",
    "        test_size = valid_part_size/(1 - test_part_size), \n",
    "        stratify = y_train, \n",
    "        random_state = 311\n",
    "        )\n",
    "\n",
    "    return (X_train, y_train), (X_valid, y_valid), (X_test, y_test)"
   ]
  },
  {
   "cell_type": "code",
   "execution_count": 17,
   "id": "0d828756",
   "metadata": {},
   "outputs": [],
   "source": [
    "(X_train, y_train), (X_valid, y_valid), (X_test,y_test) = split_data(\n",
    "    fake_news_df['text_combined'], \n",
    "    fake_news_df['class'], \n",
    "    0.15, \n",
    "    0.15\n",
    ")"
   ]
  },
  {
   "cell_type": "code",
   "execution_count": 18,
   "id": "4751efd4",
   "metadata": {},
   "outputs": [
    {
     "data": {
      "text/plain": [
       "18467    trumps lawyer destroys chriswallace in heated ...\n",
       "Name: text_combined, dtype: object"
      ]
     },
     "execution_count": 18,
     "metadata": {},
     "output_type": "execute_result"
    }
   ],
   "source": [
    "X_valid.head(1)"
   ]
  },
  {
   "cell_type": "code",
   "execution_count": 19,
   "id": "b87d1ae7",
   "metadata": {},
   "outputs": [
    {
     "name": "stdout",
     "output_type": "stream",
     "text": [
      "[' watch deplorable trump supporter punches protester and slaps woman at rallytrump supporters have proven hillary clinton right once againduring a rally in ashville north carolina on monday a trump fan was filmed physically assaulting some protesters with the republican nominee s full support as he gave the thumbs upat the top of some bleachers a middleaged white guy can be seen grabbing and punching a male protester security intervened but rather than remove the trump supporter for committing an actual crime they kicked out the protesters insteadthe man verbally harasses the group as they file out down the steps all while acting like he is some kind of tough guy and then goes as far as slapping a female protester on her way outhere s the video via twitterwatch man slaps several protesters as they are being escorted out of realdonaldtrump rally in asheville nc pictwittercomkmkcdviar4  abc news politics abcpolitics september 12 2016again this asshole did not get removed from the rally and nor was he arrested like the other bullies who have assaulted people during trump rallies he was left alone while the protesters were dealt with even though he was clearly the aggressorat another rally earlier this year in north carolina a trump supporter named john mcgraw suckerpunched a black protester and then triumphantly declared to the media that he and his white buddies might have to kill the man next time at least mcgraw was arrested but only after the rallyand donald trump does nothing to stop this kind of behavior from his hooligan supporters he cheers them on and congratulates them it seems like he is proud of his supporters for beating up people who don t agree with himthis is how violence finds its way into politics and trump has done nothing but allow it to escalate not too long ago trump suggested that gun owners do something to stop hillary clinton from selecting supreme court nominees and on saturday kentucky governor matt bevin called for a bloody rebellion if hillary wins in novemberclearly hillary clinton was right to call trump s supporters deplorablefeatured image via screen capture']\n"
     ]
    }
   ],
   "source": [
    "# Retrieve combined text from the train data\n",
    "text_data = X_train.tolist()\n",
    "print(text_data[ : 1])"
   ]
  },
  {
   "cell_type": "code",
   "execution_count": null,
   "id": "1e5abfaf",
   "metadata": {},
   "outputs": [],
   "source": []
  }
 ],
 "metadata": {
  "kernelspec": {
   "display_name": "Python 3 (ipykernel)",
   "language": "python",
   "name": "python3"
  },
  "language_info": {
   "codemirror_mode": {
    "name": "ipython",
    "version": 3
   },
   "file_extension": ".py",
   "mimetype": "text/x-python",
   "name": "python",
   "nbconvert_exporter": "python",
   "pygments_lexer": "ipython3",
   "version": "3.9.7"
  },
  "widgets": {
   "application/vnd.jupyter.widget-state+json": {
    "state": {},
    "version_major": 2,
    "version_minor": 0
   }
  }
 },
 "nbformat": 4,
 "nbformat_minor": 5
}
